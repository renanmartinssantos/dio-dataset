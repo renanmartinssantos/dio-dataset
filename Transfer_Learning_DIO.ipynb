{
  "nbformat": 4,
  "nbformat_minor": 0,
  "metadata": {
    "colab": {
      "provenance": [],
      "gpuType": "T4",
      "authorship_tag": "ABX9TyOBSfasfhUkaktBATSBRQBJ",
      "include_colab_link": true
    },
    "kernelspec": {
      "name": "python3",
      "display_name": "Python 3"
    },
    "language_info": {
      "name": "python"
    },
    "accelerator": "GPU"
  },
  "cells": [
    {
      "cell_type": "markdown",
      "metadata": {
        "id": "view-in-github",
        "colab_type": "text"
      },
      "source": [
        "<a href=\"https://colab.research.google.com/github/renanmartinssantos/dio-transfer-learning/blob/main/Transfer_Learning_DIO.ipynb\" target=\"_parent\"><img src=\"https://colab.research.google.com/assets/colab-badge.svg\" alt=\"Open In Colab\"/></a>"
      ]
    },
    {
      "cell_type": "code",
      "source": [
        "import os\n",
        "import tensorflow as tf\n",
        "from tensorflow.keras import layers, models\n",
        "from tensorflow.keras.preprocessing import image\n",
        "from tensorflow.keras.preprocessing.image import ImageDataGenerator\n",
        "from shutil import copyfile\n",
        "import numpy as np"
      ],
      "metadata": {
        "id": "LkolRC9jTFKt"
      },
      "execution_count": 109,
      "outputs": []
    },
    {
      "cell_type": "code",
      "source": [
        "def split_data(SOURCE, TRAINING, TESTING, SPLITSIZE):\n",
        "    os.makedirs(TRAINING, exist_ok=True)\n",
        "    os.makedirs(TESTING, exist_ok=True)\n",
        "\n",
        "    files = []\n",
        "    for filename in os.listdir(SOURCE):\n",
        "        file = os.path.join(SOURCE, filename)\n",
        "        if os.path.getsize(file) > 0:\n",
        "            files.append(filename)\n",
        "        else:\n",
        "            print(filename + \" is zero length, so ignoring.\")\n",
        "\n",
        "    training_length = int(len(files) * SPLITSIZE)\n",
        "    testing_length = len(files) - training_length\n",
        "\n",
        "    shuffled_set = random.sample(files, len(files))\n",
        "    training_set = shuffled_set[:training_length]\n",
        "    testing_set = shuffled_set[-testing_length:]\n",
        "\n",
        "    for filename in training_set:\n",
        "        this_file = os.path.join(SOURCE, filename)\n",
        "        destination = os.path.join(TRAINING, filename)\n",
        "        copyfile(this_file, destination)\n",
        "\n",
        "    for filename in testing_set:\n",
        "        this_file = os.path.join(SOURCE, filename)\n",
        "        destination = os.path.join(TESTING, filename)\n",
        "        copyfile(this_file, destination)"
      ],
      "metadata": {
        "id": "73uZaKDyBiOb"
      },
      "execution_count": 108,
      "outputs": []
    },
    {
      "cell_type": "code",
      "source": [
        "SCALLET_SOURCE_DIR = \"/content/celebrity/Scarlett Johansson\"\n",
        "TRAINING_SCALLET_DIR = \"/content/celebrity/TreinoTeste/train/Scarlett Johansson/\"\n",
        "TESTING_SCALLET_DIR = \"/content/celebrity/TreinoTeste/validation/Scarlett Johansson/\"\n",
        "LEONARDO_SOURCE_DIR = \"/content/celebrity/Leonardo DiCaprio\"\n",
        "TRAINING_LEONARDO_DIR = \"/content/celebrity/TreinoTeste/train/Leonardo DiCaprio/\"\n",
        "TESTING_LEONARDO_DIR = \"/content/celebrity/TreinoTeste/validation/Leonardo DiCaprio/\"\n",
        "\n",
        "os.makedirs(TRAINING_SCALLET_DIR, exist_ok=True)\n",
        "os.makedirs(TESTING_SCALLET_DIR, exist_ok=True)\n",
        "os.makedirs(TRAINING_LEONARDO_DIR, exist_ok=True)\n",
        "os.makedirs(TESTING_LEONARDO_DIR, exist_ok=True)\n",
        "\n",
        "split_size = 0.8\n",
        "split_data(SCALLET_SOURCE_DIR, TRAINING_SCALLET_DIR, TESTING_SCALLET_DIR, split_size)\n",
        "split_data(LEONARDO_SOURCE_DIR, TRAINING_LEONARDO_DIR, TESTING_LEONARDO_DIR, split_size)"
      ],
      "metadata": {
        "id": "yF9vlfmQGUuz"
      },
      "execution_count": 90,
      "outputs": []
    },
    {
      "cell_type": "code",
      "source": [
        "train_dir = '/content/celebrity/TreinoTeste/train'\n",
        "validation_dir = '/content/celebrity/TreinoTeste/validation'"
      ],
      "metadata": {
        "id": "jCTySsZU9Ku8"
      },
      "execution_count": 91,
      "outputs": []
    },
    {
      "cell_type": "code",
      "source": [
        "train_datagen = ImageDataGenerator(\n",
        "    rescale=1./255,\n",
        "    rotation_range=40,\n",
        "    width_shift_range=0.2,\n",
        "    height_shift_range=0.2,\n",
        "    shear_range=0.2,\n",
        "    zoom_range=0.2,\n",
        "    horizontal_flip=True,\n",
        "    fill_mode='nearest'\n",
        ")\n",
        "\n",
        "validation_datagen = ImageDataGenerator(rescale=1./255)\n",
        "\n",
        "train_generator = train_datagen.flow_from_directory(\n",
        "    train_dir,\n",
        "    target_size=(150, 150),\n",
        "    batch_size=32,\n",
        "    class_mode='binary'\n",
        ")\n",
        "\n",
        "validation_generator = validation_datagen.flow_from_directory(\n",
        "    validation_dir,\n",
        "    target_size=(150, 150),\n",
        "    batch_size=32,\n",
        "    class_mode='binary'\n",
        ")"
      ],
      "metadata": {
        "colab": {
          "base_uri": "https://localhost:8080/"
        },
        "id": "9_4yx9xA_Atd",
        "outputId": "962d73ab-15f0-4987-905d-152643ce49e5"
      },
      "execution_count": 92,
      "outputs": [
        {
          "output_type": "stream",
          "name": "stdout",
          "text": [
            "Found 240 images belonging to 2 classes.\n",
            "Found 60 images belonging to 2 classes.\n"
          ]
        }
      ]
    },
    {
      "cell_type": "code",
      "source": [
        "base_model = tf.keras.applications.MobileNetV2(\n",
        "    input_shape=(150, 150, 3),\n",
        "    include_top=False,\n",
        "    weights='imagenet'\n",
        ")\n",
        "\n",
        "base_model.trainable = False\n",
        "\n",
        "model = models.Sequential([\n",
        "    base_model,\n",
        "    layers.GlobalAveragePooling2D(),\n",
        "    layers.Dense(128, activation='relu'),\n",
        "    layers.Dropout(0.5),\n",
        "    layers.Dense(1, activation='sigmoid')\n",
        "])\n"
      ],
      "metadata": {
        "colab": {
          "base_uri": "https://localhost:8080/"
        },
        "id": "zuJmQ1G8_JLv",
        "outputId": "0f2adada-dfe4-466b-fa03-b1e7c85067e8"
      },
      "execution_count": 93,
      "outputs": [
        {
          "output_type": "stream",
          "name": "stderr",
          "text": [
            "<ipython-input-93-b7d3a872d38e>:1: UserWarning: `input_shape` is undefined or non-square, or `rows` is not in [96, 128, 160, 192, 224]. Weights for input shape (224, 224) will be loaded as the default.\n",
            "  base_model = tf.keras.applications.MobileNetV2(\n"
          ]
        }
      ]
    },
    {
      "cell_type": "code",
      "source": [
        "model.compile(\n",
        "    optimizer='adam',\n",
        "    loss='binary_crossentropy',\n",
        "    metrics=['accuracy']\n",
        ")"
      ],
      "metadata": {
        "id": "Gl7ikMa7_gpD"
      },
      "execution_count": 94,
      "outputs": []
    },
    {
      "cell_type": "code",
      "source": [
        "history = model.fit(\n",
        "    train_generator,\n",
        "    steps_per_epoch=90,\n",
        "    validation_data=validation_generator,\n",
        "    validation_steps=6,\n",
        "    epochs=10\n",
        ")"
      ],
      "metadata": {
        "colab": {
          "base_uri": "https://localhost:8080/"
        },
        "id": "t0h4gJy7_hJ0",
        "outputId": "b2750d2e-4fa1-4a5a-ec42-3a802618fcde"
      },
      "execution_count": 95,
      "outputs": [
        {
          "output_type": "stream",
          "name": "stdout",
          "text": [
            "Epoch 1/10\n",
            "\u001b[1m90/90\u001b[0m \u001b[32m━━━━━━━━━━━━━━━━━━━━\u001b[0m\u001b[37m\u001b[0m \u001b[1m17s\u001b[0m 86ms/step - accuracy: 0.8146 - loss: 0.3928 - val_accuracy: 0.9167 - val_loss: 0.1543\n",
            "Epoch 2/10\n",
            "\u001b[1m90/90\u001b[0m \u001b[32m━━━━━━━━━━━━━━━━━━━━\u001b[0m\u001b[37m\u001b[0m \u001b[1m10s\u001b[0m 3ms/step - accuracy: 0.9348 - loss: 0.1707 - val_accuracy: 0.9667 - val_loss: 0.0840\n",
            "Epoch 3/10\n",
            "\u001b[1m90/90\u001b[0m \u001b[32m━━━━━━━━━━━━━━━━━━━━\u001b[0m\u001b[37m\u001b[0m \u001b[1m2s\u001b[0m 3ms/step - accuracy: 0.9676 - loss: 0.0840 - val_accuracy: 0.9667 - val_loss: 0.0674\n",
            "Epoch 4/10\n",
            "\u001b[1m90/90\u001b[0m \u001b[32m━━━━━━━━━━━━━━━━━━━━\u001b[0m\u001b[37m\u001b[0m \u001b[1m2s\u001b[0m 4ms/step - accuracy: 0.9710 - loss: 0.1066 - val_accuracy: 0.9667 - val_loss: 0.0468\n",
            "Epoch 5/10\n",
            "\u001b[1m90/90\u001b[0m \u001b[32m━━━━━━━━━━━━━━━━━━━━\u001b[0m\u001b[37m\u001b[0m \u001b[1m3s\u001b[0m 3ms/step - accuracy: 0.9452 - loss: 0.1282 - val_accuracy: 0.9667 - val_loss: 0.0532\n",
            "Epoch 6/10\n",
            "\u001b[1m90/90\u001b[0m \u001b[32m━━━━━━━━━━━━━━━━━━━━\u001b[0m\u001b[37m\u001b[0m \u001b[1m2s\u001b[0m 3ms/step - accuracy: 0.9799 - loss: 0.0884 - val_accuracy: 0.9833 - val_loss: 0.0334\n",
            "Epoch 7/10\n",
            "\u001b[1m90/90\u001b[0m \u001b[32m━━━━━━━━━━━━━━━━━━━━\u001b[0m\u001b[37m\u001b[0m \u001b[1m3s\u001b[0m 4ms/step - accuracy: 0.9665 - loss: 0.0999 - val_accuracy: 0.9667 - val_loss: 0.0547\n",
            "Epoch 8/10\n",
            "\u001b[1m90/90\u001b[0m \u001b[32m━━━━━━━━━━━━━━━━━━━━\u001b[0m\u001b[37m\u001b[0m \u001b[1m2s\u001b[0m 4ms/step - accuracy: 0.9703 - loss: 0.0779 - val_accuracy: 0.9667 - val_loss: 0.0449\n",
            "Epoch 9/10\n",
            "\u001b[1m90/90\u001b[0m \u001b[32m━━━━━━━━━━━━━━━━━━━━\u001b[0m\u001b[37m\u001b[0m \u001b[1m2s\u001b[0m 3ms/step - accuracy: 0.9763 - loss: 0.0895 - val_accuracy: 0.9833 - val_loss: 0.0453\n",
            "Epoch 10/10\n",
            "\u001b[1m90/90\u001b[0m \u001b[32m━━━━━━━━━━━━━━━━━━━━\u001b[0m\u001b[37m\u001b[0m \u001b[1m2s\u001b[0m 5ms/step - accuracy: 0.9748 - loss: 0.0768 - val_accuracy: 0.9833 - val_loss: 0.0382\n"
          ]
        }
      ]
    },
    {
      "cell_type": "code",
      "source": [
        "fig = plt.figure(figsize=(16,4))\n",
        "ax = fig.add_subplot(121)\n",
        "ax.plot(history.history[\"val_loss\"])\n",
        "ax.set_title(\"validation loss\")\n",
        "ax.set_xlabel(\"epochs\")\n",
        "\n",
        "ax2 = fig.add_subplot(122)\n",
        "ax2.plot(history.history[\"val_accuracy\"])\n",
        "ax2.set_title(\"validation accuracy\")\n",
        "ax2.set_xlabel(\"epochs\")\n",
        "ax2.set_ylim(0, 1)\n",
        "\n",
        "plt.show()"
      ],
      "metadata": {
        "colab": {
          "base_uri": "https://localhost:8080/",
          "height": 410
        },
        "id": "9oRaQDTjLFv8",
        "outputId": "8e155865-4ca3-4373-f65d-8a3014c4874c"
      },
      "execution_count": 96,
      "outputs": [
        {
          "output_type": "display_data",
          "data": {
            "text/plain": [
              "<Figure size 1600x400 with 2 Axes>"
            ],
            "image/png": "[encoded data removed]"
          },
          "metadata": {}
        }
      ]
    },
    {
      "cell_type": "code",
      "source": [
        "test_loss, test_acc = model.evaluate(validation_generator)\n",
        "print(f\"Acurácia no conjunto de validação: {test_acc:.2f}\")"
      ],
      "metadata": {
        "colab": {
          "base_uri": "https://localhost:8080/"
        },
        "id": "3MOj9KFr_lXC",
        "outputId": "8dc59e72-aa55-4974-e8bf-2074d34567b2"
      },
      "execution_count": 97,
      "outputs": [
        {
          "output_type": "stream",
          "name": "stdout",
          "text": [
            "\u001b[1m2/2\u001b[0m \u001b[32m━━━━━━━━━━━━━━━━━━━━\u001b[0m\u001b[37m\u001b[0m \u001b[1m0s\u001b[0m 62ms/step - accuracy: 0.9785 - loss: 0.0457\n",
            "Acurácia no conjunto de validação: 0.98\n"
          ]
        }
      ]
    },
    {
      "cell_type": "code",
      "source": [
        "model.save('ScalletLeonardoModel.h5')"
      ],
      "metadata": {
        "colab": {
          "base_uri": "https://localhost:8080/"
        },
        "id": "R-gMGDrk_m-W",
        "outputId": "14dbb505-9a35-4238-edb2-9159f9abd412"
      },
      "execution_count": 98,
      "outputs": [
        {
          "output_type": "stream",
          "name": "stderr",
          "text": [
            "WARNING:absl:You are saving your model as an HDF5 file via `model.save()` or `keras.saving.save_model(model)`. This file format is considered legacy. We recommend using instead the native Keras format, e.g. `model.save('my_model.keras')` or `keras.saving.save_model(model, 'my_model.keras')`. \n"
          ]
        }
      ]
    },
    {
      "cell_type": "code",
      "source": [
        "def load_and_preprocess_image(img_path, target_size=(150, 150)):\n",
        "    img = image.load_img(img_path, target_size=target_size)\n",
        "    img_array = image.img_to_array(img) / 255.0\n",
        "    img_array = np.expand_dims(img_array, axis=0)\n",
        "    return img_array\n",
        "\n",
        "def predict_image_class(img_path, model):\n",
        "    img_array = load_and_preprocess_image(img_path)\n",
        "\n",
        "    predictions = model.predict(img_array)\n",
        "    predicted_class = 'leonardo' if predictions[0] < 0.5 else 'scarlett'\n",
        "\n",
        "    print(f\"A imagem é de: {predicted_class} com  {predictions[0]}\")\n",
        "\n",
        "image_paths = [\n",
        "    '/content/Testes/scarlett.jpg',\n",
        "    '/content/Testes/leonardo.jpg',\n",
        "    '/content/Testes/scarlett2.jpg',\n",
        "    '/content/Testes/leonardo2.jpg',\n",
        "]\n",
        "\n",
        "for img_path in image_paths:\n",
        "    print(f\"Analisando a imagem: {img_path}\")\n",
        "    predict_image_class(img_path, model)\n",
        "    print()"
      ],
      "metadata": {
        "colab": {
          "base_uri": "https://localhost:8080/"
        },
        "id": "wtpIFR4uHmIm",
        "outputId": "d45a9965-4b68-41c9-c513-8960745aa828"
      },
      "execution_count": 106,
      "outputs": [
        {
          "output_type": "stream",
          "name": "stdout",
          "text": [
            "Analisando a imagem: /content/Testes/scarlett.jpg\n",
            "\u001b[1m1/1\u001b[0m \u001b[32m━━━━━━━━━━━━━━━━━━━━\u001b[0m\u001b[37m\u001b[0m \u001b[1m0s\u001b[0m 32ms/step\n",
            "A imagem é de: scarlett com  [0.95359075]\n",
            "\n",
            "Analisando a imagem: /content/Testes/leonardo.jpg\n",
            "\u001b[1m1/1\u001b[0m \u001b[32m━━━━━━━━━━━━━━━━━━━━\u001b[0m\u001b[37m\u001b[0m \u001b[1m0s\u001b[0m 34ms/step\n",
            "A imagem é de: leonardo com  [0.00030337]\n",
            "\n",
            "Analisando a imagem: /content/Testes/scarlett2.jpg\n",
            "\u001b[1m1/1\u001b[0m \u001b[32m━━━━━━━━━━━━━━━━━━━━\u001b[0m\u001b[37m\u001b[0m \u001b[1m0s\u001b[0m 30ms/step\n",
            "A imagem é de: scarlett com  [0.9990823]\n",
            "\n",
            "Analisando a imagem: /content/Testes/leonardo2.jpg\n",
            "\u001b[1m1/1\u001b[0m \u001b[32m━━━━━━━━━━━━━━━━━━━━\u001b[0m\u001b[37m\u001b[0m \u001b[1m0s\u001b[0m 28ms/step\n",
            "A imagem é de: leonardo com  [0.3624798]\n",
            "\n"
          ]
        }
      ]
    }
  ]
}